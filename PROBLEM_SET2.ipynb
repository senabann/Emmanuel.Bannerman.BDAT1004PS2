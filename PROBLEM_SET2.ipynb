{
 "cells": [
  {
   "cell_type": "markdown",
   "id": "7a0a8da9-03b7-48a7-b1ec-8ce963b9dfe7",
   "metadata": {},
   "source": [
    "# QUESTION 1"
   ]
  },
  {
   "cell_type": "code",
   "execution_count": 26,
   "id": "ef55dfb2-ee12-4929-845f-54d25841717c",
   "metadata": {},
   "outputs": [
    {
     "data": {
      "text/plain": [
       "6"
      ]
     },
     "execution_count": 26,
     "metadata": {},
     "output_type": "execute_result"
    }
   ],
   "source": [
    "a = 0\n",
    "\n",
    "def b():\n",
    " global a\n",
    " a = c(a)\n",
    "    \n",
    "def c(a):\n",
    " return a + 2\n",
    "\n",
    "b()\n",
    "b()\n",
    "b()\n",
    "a"
   ]
  },
  {
   "cell_type": "markdown",
   "id": "2fc7403c-587c-45c9-9de1-4b82cf479db9",
   "metadata": {},
   "source": [
    "The global reserve keyword indicates that a is a global variable in function b, and the function c changes the value of a whenever the function b is called, i.e (increases its value by 2). With every function call of b, the global value of a is assigned and after the third function call a is 6\n"
   ]
  },
  {
   "cell_type": "markdown",
   "id": "3e12a0a6-94cf-44a8-bac2-4c84bc17b45f",
   "metadata": {},
   "source": [
    "# QUESTION 2"
   ]
  },
  {
   "cell_type": "code",
   "execution_count": 27,
   "id": "e560e3e0-48a2-440b-af0b-1aa0a32baf89",
   "metadata": {},
   "outputs": [
    {
     "name": "stdout",
     "output_type": "stream",
     "text": [
      "123\n",
      "File ilelength.txt not found!!\n"
     ]
    }
   ],
   "source": [
    "def fileLength(filename): \n",
    "    try:              #catches any potential exceptions\n",
    "        inputfile = open(filename)\n",
    "        words = inputfile.read()\n",
    "        inputfile.close()\n",
    "        print(len(words))\n",
    "    except:                  #If any exception occurs, this code block is executed to print file .... not found!!\n",
    "        print(\"File \"+filename+\" not found!!\")\n",
    "fileLength(\"Filelength.txt\") \n",
    "fileLength(\"ilelength.txt\") "
   ]
  },
  {
   "cell_type": "markdown",
   "id": "38feef19-0884-48d1-aefc-7c2f4cef94a9",
   "metadata": {},
   "source": [
    "# QUESTION 3"
   ]
  },
  {
   "cell_type": "code",
   "execution_count": 28,
   "id": "7559d936-2c98-46b8-968a-7bef72fe1209",
   "metadata": {},
   "outputs": [
    {
     "name": "stdout",
     "output_type": "stream",
     "text": [
      "I am a Kangaroo located at coordinates ( 0,0)\n",
      "['doll', 'firetruck', 'kitten']\n",
      "I am a Kangaroo located at coordinates ( 3,0)\n"
     ]
    }
   ],
   "source": [
    "class Marsupial:                 \n",
    "    def __init__(self,x,y):       #class Mersupial and its parametres\n",
    "        self.pouch=[]              #the pouch  empty list attribute     \n",
    "             \n",
    "    def put_in_pouch(self,items):   \n",
    "        self.pouch.append(items)     # Appends item to the pouch list\n",
    "        \n",
    "    def pouch_contents(self):           \n",
    "        return self.pouch               # Returns the list of items in the pouch\n",
    "\n",
    "class Kangaroo(Marsupial):         #Kangaroo with parameters, x and y\n",
    "    def __init__(self,x,y):              \n",
    "        super().__init__(x,y)    \n",
    "        self.dx = 0                      \n",
    "        self.dy = 0                        \n",
    "    \n",
    "    def jump(self,x,y):                 #method that updates the kangaroo's position by adding x and y to dx and dy\n",
    "        self.dx = self.dx + x    \n",
    "        self.dy = self.dy + y\n",
    "    \n",
    "    def __str__(self):         \n",
    "        \n",
    "        return ('I am a Kangaroo located at coordinates ( {},{})'.format(self.dx,self.dy)) #returns final string\n",
    "\n",
    "k = Kangaroo(0,0)\n",
    "print(k)\n",
    "k.put_in_pouch('doll')\n",
    "k.put_in_pouch('firetruck')\n",
    "k.put_in_pouch('kitten')\n",
    "k.pouch_contents()\n",
    "print(k.pouch)  \n",
    "k.jump(1,0)\n",
    "k.jump(1,0)\n",
    "k.jump(1,0)\n",
    "print(k)"
   ]
  },
  {
   "cell_type": "markdown",
   "id": "6c8df5ad-c30d-49ac-861d-a104ca6d2f1b",
   "metadata": {},
   "source": [
    "# QUESTION 4"
   ]
  },
  {
   "cell_type": "code",
   "execution_count": 11,
   "id": "c515ae98-a34f-4394-838d-22dabdc0240b",
   "metadata": {},
   "outputs": [
    {
     "name": "stdout",
     "output_type": "stream",
     "text": [
      "1\n",
      "\n",
      "\n",
      "10\n",
      "5\n",
      "16\n",
      "8\n",
      "4\n",
      "2\n",
      "1\n"
     ]
    }
   ],
   "source": [
    "def collatz (x):  \n",
    "    if(x != 1): \n",
    "        print(x ) #Prints x value if x not equal to 1\n",
    "    if(x == 1):\n",
    "        print(x)\n",
    "        return x #ends the function and returns x if x is 1\n",
    "    if(x%2 == 0):  \n",
    "        x = x // 2  # if x is even, divides by 2\n",
    "        collatz(x)\n",
    "    else:              \n",
    "        x= 3*x + 1\n",
    "        collatz(x) #Recursively calls the collatz function with the new value of x\n",
    "\n",
    "\n",
    "collatz(1)  \n",
    "print('\\n')\n",
    "collatz(10)"
   ]
  },
  {
   "cell_type": "markdown",
   "id": "ee338941-7c2b-4374-89b9-52c57a3931c1",
   "metadata": {},
   "source": [
    "# QUESTION 5"
   ]
  },
  {
   "cell_type": "code",
   "execution_count": 29,
   "id": "843602d6-3a35-4733-b430-f4870e22b6af",
   "metadata": {},
   "outputs": [
    {
     "name": "stdout",
     "output_type": "stream",
     "text": [
      "0\n",
      "1\n",
      "11\n",
      "1001\n"
     ]
    }
   ],
   "source": [
    "binary_form =\"\" # Initialize an empty string to store the binary representation\n",
    "def binary (n): #convert a decimal number to its binary form\n",
    "    global binary_form  \n",
    "    if(n==0): \n",
    "        print(\"0\")   # Base case: if the number is 0, print \"0\"\n",
    "        \n",
    "    elif(n==1):                # Base case: if the number is 1, update the binary_form, reverse it, print, and reset binary_form\n",
    "        binary_form +=\"1\" \n",
    "        binary_form = binary_form [::-1] \n",
    "        print(binary_form)\n",
    "        binary_form=\"\"  \n",
    "            \n",
    "    else:                  # Recursive case: if the number is greater than 1, continue building the binary representation\n",
    "        x=\"\"\n",
    "        remainder = int(n%2)\n",
    "        x =str(remainder)\n",
    "        binary_form+=x  \n",
    "        n =int(n/2)\n",
    "        binary(n) \n",
    "\n",
    " #test       \n",
    "binary(0)\n",
    "binary(1)\n",
    "binary(3)\n",
    "binary(9)"
   ]
  },
  {
   "cell_type": "markdown",
   "id": "44a56345-f97e-4ae1-b463-4fe9a7994a1e",
   "metadata": {},
   "source": [
    "# QUESTION 6"
   ]
  },
  {
   "cell_type": "code",
   "execution_count": 14,
   "id": "ec1ed04d-e602-4257-9637-e4ae8695537d",
   "metadata": {},
   "outputs": [
    {
     "name": "stdout",
     "output_type": "stream",
     "text": [
      "W3C Mission\n",
      " Principles\n"
     ]
    }
   ],
   "source": [
    "from html.parser import HTMLParser\n",
    "class HeadingParser(HTMLParser):\n",
    "    indent = -6 \n",
    "        \n",
    "    def handle_starttag(self, tag, attrs): \n",
    "        if tag == 'h1':\n",
    "            self.indent = 0\n",
    "        elif tag == 'h2':\n",
    "            self.indent = 1\n",
    "        elif tag == 'h3':\n",
    "            self.indent = 2\n",
    "        elif tag == 'h4':\n",
    "            self.indent = 3\n",
    "        elif tag == 'h5':\n",
    "            self.indent = 4            \n",
    "        elif tag == 'h6':\n",
    "            self.indent = 5\n",
    "        else:\n",
    "            self.indent = -6\n",
    "               \n",
    "\n",
    "    def handle_data(self, data):\n",
    "        if data.strip() != \"\":\n",
    "            printWithIndentation(data, self.indent) \n",
    "        \n",
    "\n",
    "def printWithIndentation(text, indent):\n",
    "    if indent >= 0:\n",
    "        print(f\"{' ' * indent}{text}\")     \n",
    "\n",
    "input_file = open('w3c.txt') \n",
    "content = input_file.read() \n",
    "input_file.close() \n",
    "\n",
    "headingParser = HeadingParser()\n",
    "headingParser.feed(content)"
   ]
  },
  {
   "cell_type": "markdown",
   "id": "a2f107c0-67c7-4ea1-8dfd-964a06362a69",
   "metadata": {},
   "source": [
    "# QUESTION 7"
   ]
  },
  {
   "cell_type": "code",
   "execution_count": 22,
   "id": "c1eee928-ab20-4e03-861c-d2d41807c739",
   "metadata": {},
   "outputs": [
    {
     "name": "stdout",
     "output_type": "stream",
     "text": [
      "http://reed.cs.depaul.edu/lperkovic/csc242/test1.html\n"
     ]
    }
   ],
   "source": [
    "import requests\n",
    "from bs4 import BeautifulSoup\n",
    "\n",
    "def webdir(url, depth, indent):\n",
    "    if depth == 0:\n",
    "        return\n",
    "    print(' ' * indent + url)\n",
    "    try:\n",
    "        response = requests.get(url)\n",
    "        content = response.content\n",
    "        soup = BeautifulSoup(content, 'html.parser')\n",
    "        links = soup.find_all('a')\n",
    "        for link in links:\n",
    "            href = link.get('href')\n",
    "            if href and href.startswith('http'):\n",
    "                webdir(href, depth - 1, indent + 1)\n",
    "    except requests.exceptions.RequestException as e:\n",
    "        print(f\"Error accessing {url}: {e}\")\n",
    "\n",
    "# Testing the function\n",
    "webdir('http://reed.cs.depaul.edu/lperkovic/csc242/test1.html', 2, 0)\n"
   ]
  },
  {
   "cell_type": "markdown",
   "id": "2fa775e2-c7fc-4c67-8c81-02c30a02c4f4",
   "metadata": {},
   "source": [
    "# Question 8"
   ]
  },
  {
   "cell_type": "code",
   "execution_count": 31,
   "id": "dd4d4d52-3792-4592-9487-55bfc05dc26d",
   "metadata": {},
   "outputs": [
    {
     "name": "stdout",
     "output_type": "stream",
     "text": [
      "All the temperature data: [(24.8,), (28.4,), (27.9,), (27.6,), (4.2,), (8.3,), (15.7,), (10.4,), (13.6,), (20.7,), (27.7,), (22.2,)]\n",
      "All the cities, but without repetition: [('Mumbai',), ('London',), ('Cairo',)]\n",
      "All the records for India: [('Mumbai', 'India', 'Winter', 24.8, 5.9), ('Mumbai', 'India', 'Spring', 28.4, 16.2), ('Mumbai', 'India', 'Summer', 27.9, 1549.4), ('Mumbai', 'India', 'Fall', 27.6, 346.0)]\n",
      "All the Fall records: [('Mumbai', 'India', 'Fall', 27.6, 346.0), ('London', 'United Kingdom', 'Fall', 10.4, 218.5), ('Cairo', 'Egypt', 'Fall', 22.2, 4.5)]\n",
      "Average rainfall between 200 and 400 mm: [('Mumbai', 'India', 'Fall'), ('London', 'United Kingdom', 'Winter'), ('London', 'United Kingdom', 'Fall')]\n",
      "Fall temperature above 20 degrees: [('Cairo', 'Egypt'), ('Mumbai', 'India')]\n",
      "Total annual rainfall for Cairo: (27.6,)\n",
      "Total rainfall for each season: [('Fall', 569.0), ('Spring', 192.29999999999998), ('Summer', 1706.5), ('Winter', 230.1)]\n"
     ]
    }
   ],
   "source": [
    "import sqlite3\n",
    "\n",
    "def setup_database():\n",
    "    # Connect to SQLite database (or create it if it doesn't exist)\n",
    "    conn = sqlite3.connect('weather.db')\n",
    "    cursor = conn.cursor()\n",
    "\n",
    "    # Create table\n",
    "    cursor.execute('''\n",
    "        CREATE TABLE IF NOT EXISTS Weather (\n",
    "            City TEXT,\n",
    "            Country TEXT,\n",
    "            Season TEXT,\n",
    "            Temperature REAL,\n",
    "            Rainfall REAL\n",
    "        )\n",
    "    ''')\n",
    "\n",
    "    # Clear the table if it already exists to prevent duplicates\n",
    "    cursor.execute('DELETE FROM Weather')\n",
    "\n",
    "    # Insert data\n",
    "    data = [\n",
    "        ('Mumbai', 'India', 'Winter', 24.8, 5.9),\n",
    "        ('Mumbai', 'India', 'Spring', 28.4, 16.2),\n",
    "        ('Mumbai', 'India', 'Summer', 27.9, 1549.4),\n",
    "        ('Mumbai', 'India', 'Fall', 27.6, 346.0),\n",
    "        ('London', 'United Kingdom', 'Winter', 4.2, 207.7),\n",
    "        ('London', 'United Kingdom', 'Spring', 8.3, 169.6),\n",
    "        ('London', 'United Kingdom', 'Summer', 15.7, 157.0),\n",
    "        ('London', 'United Kingdom', 'Fall', 10.4, 218.5),\n",
    "        ('Cairo', 'Egypt', 'Winter', 13.6, 16.5),\n",
    "        ('Cairo', 'Egypt', 'Spring', 20.7, 6.5),\n",
    "        ('Cairo', 'Egypt', 'Summer', 27.7, 0.1),\n",
    "        ('Cairo', 'Egypt', 'Fall', 22.2, 4.5)\n",
    "    ]\n",
    "    cursor.executemany('INSERT INTO Weather VALUES (?,?,?,?,?)', data)\n",
    "\n",
    "    # Commit changes to the database\n",
    "    conn.commit()\n",
    "    conn.close()\n",
    "\n",
    "def run_queries():\n",
    "    # Connect to the database\n",
    "    conn = sqlite3.connect('weather.db')\n",
    "    cursor = conn.cursor()\n",
    "\n",
    "    # Query a) All the temperature data\n",
    "    cursor.execute('SELECT Temperature FROM Weather')\n",
    "    temperatures = cursor.fetchall()\n",
    "    print(\"All the temperature data:\", temperatures)\n",
    "\n",
    "    # Query b) All the cities, but without repetition\n",
    "    cursor.execute('SELECT DISTINCT City FROM Weather')\n",
    "    cities = cursor.fetchall()\n",
    "    print(\"All the cities, but without repetition:\", cities)\n",
    "\n",
    "    # Query c) All the records for India\n",
    "    cursor.execute(\"SELECT * FROM Weather WHERE Country = 'India'\")\n",
    "    india_records = cursor.fetchall()\n",
    "    print(\"All the records for India:\", india_records)\n",
    "\n",
    "    # Query d) All the Fall records\n",
    "    cursor.execute(\"SELECT * FROM Weather WHERE Season = 'Fall'\")\n",
    "    fall_records = cursor.fetchall()\n",
    "    print(\"All the Fall records:\", fall_records)\n",
    "\n",
    "    # Query e) The city, country, and season for which the average rainfall is between 200 and 400 millimeters\n",
    "    cursor.execute(\"SELECT City, Country, Season FROM Weather WHERE Rainfall BETWEEN 200 AND 400\")\n",
    "    rainfall_records = cursor.fetchall()\n",
    "    print(\"Average rainfall between 200 and 400 mm:\", rainfall_records)\n",
    "\n",
    "    # Query f) The city and country for which the average Fall temperature is above 20 degrees, in increasing temperature order\n",
    "    cursor.execute(\"SELECT City, Country FROM Weather WHERE Season = 'Fall' AND Temperature > 20 ORDER BY Temperature ASC\")\n",
    "    fall_temp_records = cursor.fetchall()\n",
    "    print(\"Fall temperature above 20 degrees:\", fall_temp_records)\n",
    "\n",
    "    # Query g) The total annual rainfall for Cairo\n",
    "    cursor.execute(\"SELECT SUM(Rainfall) AS Total_Annual_Rainfall FROM Weather WHERE City = 'Cairo'\")\n",
    "    cairo_rainfall = cursor.fetchone()\n",
    "    print(\"Total annual rainfall for Cairo:\", cairo_rainfall)\n",
    "\n",
    "    # Query h) The total rainfall for each season\n",
    "    cursor.execute(\"SELECT Season, SUM(Rainfall) AS Total_Rainfall FROM Weather GROUP BY Season\")\n",
    "    seasonal_rainfall = cursor.fetchall()\n",
    "    print(\"Total rainfall for each season:\", seasonal_rainfall)\n",
    "\n",
    "    # Close the connection\n",
    "    conn.close()\n",
    "\n",
    "# Execute the functions\n",
    "setup_database()\n",
    "run_queries()\n",
    "\n"
   ]
  },
  {
   "cell_type": "markdown",
   "id": "2896f64a-8c72-4d3a-bc2d-4b999754a8cd",
   "metadata": {},
   "source": [
    "# QUESTION 9"
   ]
  },
  {
   "cell_type": "code",
   "execution_count": 32,
   "id": "87738c8c-3419-45c8-82cb-a3955920ba0a",
   "metadata": {},
   "outputs": [
    {
     "name": "stdout",
     "output_type": "stream",
     "text": [
      "['THE', 'QUICK', 'BROWN', 'FOX', 'JUMPS', 'OVER', 'THE', 'LAZY', 'DOG']\n",
      "\n",
      "\n",
      "['the', 'quick', 'brown', 'fox', 'jumps', 'over', 'the', 'lazy', 'dog']\n",
      "\n",
      "\n",
      "[3, 5, 5, 3, 5, 4, 3, 4, 3]\n",
      "\n",
      "\n",
      "[['THE', 'the', 3], ['QUICK', 'quick', 5], ['BROWN', 'brown', 5], ['FOX', 'fox', 3], ['JUMPS', 'jumps', 5], ['OVER', 'over', 4], ['THE', 'the', 3], ['LAZY', 'lazy', 4], ['DOG', 'dog', 3]]\n",
      "\n",
      "\n",
      "['quick', 'brown', 'jumps', 'over', 'lazy']\n"
     ]
    }
   ],
   "source": [
    "words = ['The', 'quick', 'brown', 'fox', 'jumps', 'over','the', 'lazy', 'dog']  #defining the list\n",
    "upper_list = []\n",
    "lower_list = []\n",
    "len_list = []\n",
    "mix_list = []\n",
    "four_char_list = []\n",
    "\n",
    "for word in words:\n",
    "    #converting list into uppercase\n",
    "    upper_list.append(word.upper())   \n",
    "    #converting list into lowercase\n",
    "    lower_list.append(word.lower())   \n",
    "    #printing lenght of the words in list\n",
    "    len_list.append(len(word))        \n",
    "    #printing the mix list\n",
    "    mix_list.append([word.upper(), word.lower(), len(word)])    \n",
    "    \n",
    "    #printing word the list of words in list words containing 4 or more characters.\n",
    "    if len(word) >= 4:                  \n",
    "        four_char_list.append(word)\n",
    "\n",
    "#printing list\n",
    "print(upper_list)\n",
    "print('\\n')\n",
    "print(lower_list)\n",
    "print('\\n')\n",
    "print(len_list)\n",
    "print('\\n')\n",
    "print(mix_list)\n",
    "print('\\n')\n",
    "print(four_char_list)"
   ]
  },
  {
   "cell_type": "code",
   "execution_count": null,
   "id": "7c4f6278-2146-4a1c-9c8d-c9db936ec399",
   "metadata": {},
   "outputs": [],
   "source": []
  }
 ],
 "metadata": {
  "kernelspec": {
   "display_name": "Python 3 (ipykernel)",
   "language": "python",
   "name": "python3"
  },
  "language_info": {
   "codemirror_mode": {
    "name": "ipython",
    "version": 3
   },
   "file_extension": ".py",
   "mimetype": "text/x-python",
   "name": "python",
   "nbconvert_exporter": "python",
   "pygments_lexer": "ipython3",
   "version": "3.11.7"
  }
 },
 "nbformat": 4,
 "nbformat_minor": 5
}
